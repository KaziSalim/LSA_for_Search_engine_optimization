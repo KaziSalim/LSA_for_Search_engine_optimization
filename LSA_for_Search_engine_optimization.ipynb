{
 "cells": [
  {
   "cell_type": "markdown",
   "id": "c18b1e6a",
   "metadata": {},
   "source": [
    "# LSA use for SEO(search engine optimization)"
   ]
  },
  {
   "cell_type": "code",
   "execution_count": 1,
   "id": "b1c68ad1",
   "metadata": {},
   "outputs": [],
   "source": [
    "from sklearn.feature_extraction.text import TfidfVectorizer\n",
    "from sklearn.decomposition import TruncatedSVD\n",
    "from sklearn.metrics.pairwise import cosine_similarity"
   ]
  },
  {
   "cell_type": "code",
   "execution_count": 2,
   "id": "b5181423",
   "metadata": {},
   "outputs": [],
   "source": [
    "# Sample documents\n",
    "documents = [\n",
    "    \"SEO is crucial for improving website visibility.\",\n",
    "    \"Keyword research is an essential aspect of SEO.\",\n",
    "    \"Backlinks play a significant role in search engine optimization.\",\n",
    "    \"Content quality is important for SEO success.\",\n",
    "    \"SEO tools help in analyzing website performance.\"\n",
    "]"
   ]
  },
  {
   "cell_type": "code",
   "execution_count": 3,
   "id": "ebdeb87d",
   "metadata": {},
   "outputs": [],
   "source": [
    "# Query\n",
    "query = \"Optimizing content for search engines\""
   ]
  },
  {
   "cell_type": "code",
   "execution_count": 4,
   "id": "c50e3dee",
   "metadata": {},
   "outputs": [],
   "source": [
    "# Preprocess and vectorize documents and query\n",
    "vectorizer = TfidfVectorizer(stop_words='english')\n",
    "X = vectorizer.fit_transform(documents)\n",
    "query_vector = vectorizer.transform([query])"
   ]
  },
  {
   "cell_type": "code",
   "execution_count": 5,
   "id": "2b3a6524",
   "metadata": {},
   "outputs": [],
   "source": [
    "# Apply Latent Semantic Analysis (LSA)\n",
    "num_topics = 2\n",
    "lsa_model = TruncatedSVD(n_components=num_topics)\n",
    "lsa_topic_matrix = lsa_model.fit_transform(X)\n",
    "query_lsa = lsa_model.transform(query_vector)"
   ]
  },
  {
   "cell_type": "code",
   "execution_count": 6,
   "id": "ec24dfd4",
   "metadata": {},
   "outputs": [],
   "source": [
    "# Calculate cosine similarity between query and documents\n",
    "similarities = cosine_similarity(query_lsa, lsa_topic_matrix)"
   ]
  },
  {
   "cell_type": "code",
   "execution_count": 7,
   "id": "b58f3c89",
   "metadata": {},
   "outputs": [
    {
     "name": "stdout",
     "output_type": "stream",
     "text": [
      "Query: Optimizing content for search engines\n",
      "\n",
      "Document Similarities:\n",
      "Document 1: Similarity = 0.3830, Content: SEO is crucial for improving website visibility.\n",
      "Document 2: Similarity = 0.3830, Content: Keyword research is an essential aspect of SEO.\n",
      "Document 3: Similarity = 0.9238, Content: Backlinks play a significant role in search engine optimization.\n",
      "Document 4: Similarity = 0.3830, Content: Content quality is important for SEO success.\n",
      "Document 5: Similarity = 0.3830, Content: SEO tools help in analyzing website performance.\n"
     ]
    }
   ],
   "source": [
    "# Display results\n",
    "print(\"Query:\", query)\n",
    "print(\"\\nDocument Similarities:\")\n",
    "for i, sim in enumerate(similarities[0]):\n",
    "    print(f\"Document {i + 1}: Similarity = {sim:.4f}, Content: {documents[i]}\")"
   ]
  }
 ],
 "metadata": {
  "kernelspec": {
   "display_name": "Python 3 (ipykernel)",
   "language": "python",
   "name": "python3"
  },
  "language_info": {
   "codemirror_mode": {
    "name": "ipython",
    "version": 3
   },
   "file_extension": ".py",
   "mimetype": "text/x-python",
   "name": "python",
   "nbconvert_exporter": "python",
   "pygments_lexer": "ipython3",
   "version": "3.11.4"
  }
 },
 "nbformat": 4,
 "nbformat_minor": 5
}
